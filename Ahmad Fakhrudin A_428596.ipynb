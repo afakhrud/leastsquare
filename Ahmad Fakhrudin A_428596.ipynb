{
 "cells": [
  {
   "cell_type": "markdown",
   "id": "ef20d2f4",
   "metadata": {},
   "source": [
    "# Least Squares Method on Gold Price Prediction"
   ]
  },
  {
   "cell_type": "markdown",
   "id": "6e037cad",
   "metadata": {},
   "source": [
    "#### by Ahmad Fakhrudin A "
   ]
  },
  {
   "cell_type": "markdown",
   "id": "afa8fc9f",
   "metadata": {},
   "source": [
    "### Library"
   ]
  },
  {
   "cell_type": "markdown",
   "id": "d02f87b1",
   "metadata": {},
   "source": [
    "matplotlib digunakan untuk plotting data, sedangkan csv untuk mengambil data dari file .csv"
   ]
  },
  {
   "cell_type": "code",
   "execution_count": 37,
   "id": "e04af3dd",
   "metadata": {},
   "outputs": [],
   "source": [
    "import matplotlib.pyplot as plt"
   ]
  },
  {
   "cell_type": "code",
   "execution_count": 38,
   "id": "9d67db60",
   "metadata": {},
   "outputs": [],
   "source": [
    "import csv"
   ]
  },
  {
   "cell_type": "markdown",
   "id": "8d4684c1",
   "metadata": {},
   "source": [
    "### Preprocessing"
   ]
  },
  {
   "cell_type": "markdown",
   "id": "3d4ec936",
   "metadata": {},
   "source": [
    "Dataset yang digunakan adalah harga emas per ounce (USD) rata-rata tiap bulan dari Januari 1950 hingga Juli 2020. Data yang begitu banyak yaitu dari tahun 1950, perlu untuk dipilah agar hasil regresi lebih akurat. Data yang diambil hanya berjumlah 25 (juli 2018 - juli 2020) yang perbedaannya tidak terlalu jauh. Tujuan dari regresi ini adalah untuk mengetahui perkiraan harga emas bulan berikutnya yaitu Agustus 2020.\n",
    "Jika harga emas naik maka emas layak untuk dibeli, jika turun maka tidak beli atau jual yang sudah ada."
   ]
  },
  {
   "cell_type": "code",
   "execution_count": 39,
   "id": "c8b0d152",
   "metadata": {},
   "outputs": [],
   "source": [
    "prices = []\n",
    "dates = []"
   ]
  },
  {
   "cell_type": "code",
   "execution_count": 40,
   "id": "aee14d3d",
   "metadata": {},
   "outputs": [],
   "source": [
    "with open('monthly_csv.csv', 'r') as csvfile:\n",
    "    data = csv.reader(csvfile)\n",
    "    next(data)\n",
    "    for row in data:\n",
    "        prices.append(row[1])\n",
    "        dates.append(row[0])"
   ]
  },
  {
   "cell_type": "code",
   "execution_count": 41,
   "id": "02952fe0",
   "metadata": {},
   "outputs": [],
   "source": [
    "dataLength = len(prices)\n",
    "prices = prices[(dataLength-25):dataLength]\n",
    "for x in range(0, len(prices)):\n",
    "    prices[x] = float(prices[x])"
   ]
  },
  {
   "cell_type": "code",
   "execution_count": 42,
   "id": "b8685c52",
   "metadata": {
    "scrolled": true
   },
   "outputs": [
    {
     "data": {
      "text/plain": [
       "Text(0.5, 1.0, 'Juli 2018 - Juli 2020')"
      ]
     },
     "execution_count": 42,
     "metadata": {},
     "output_type": "execute_result"
    },
    {
     "data": {
      "image/png": "[encoded data removed]",
      "text/plain": [
       "<Figure size 432x288 with 1 Axes>"
      ]
     },
     "metadata": {
      "needs_background": "light"
     },
     "output_type": "display_data"
    }
   ],
   "source": [
    "x = list(range(0, len(prices)))\n",
    "plt.plot(x, prices,'ro')\n",
    "plt.xlabel('bulan')\n",
    "plt.ylabel('harga (USD)')\n",
    "plt.title('Juli 2018 - Juli 2020')"
   ]
  },
  {
   "cell_type": "markdown",
   "id": "d3e4fdf2",
   "metadata": {},
   "source": [
    "### Least Squares Approximation "
   ]
  },
  {
   "cell_type": "markdown",
   "id": "92f274bf",
   "metadata": {},
   "source": [
    "Berikut adalah proses perhitungan parameter a dan b dalam persamaan regresi (polinomial orde-1)."
   ]
  },
  {
   "cell_type": "code",
   "execution_count": 43,
   "id": "dc69f72c",
   "metadata": {},
   "outputs": [
    {
     "name": "stdout",
     "output_type": "stream",
     "text": [
      "parameter b = 33.39525444806416\n",
      "parameter a = 988.0782708933717\n"
     ]
    }
   ],
   "source": [
    "n = len(prices)\n",
    "sigmaxy = 0; sigmax = 0; sigmay = 0; sigmaxs = 0\n",
    "for num in range(0, n-1):\n",
    "    sigmaxy = sigmaxy + x[num]*prices[num]\n",
    "    sigmax = sigmax + x[num]\n",
    "    sigmay = sigmay + prices[num]\n",
    "    sigmaxs = sigmaxs + x[num]**2\n",
    "ymean = sigmay/n\n",
    "xmean = sigmax/n\n",
    "beta = (n*sigmaxy - sigmax*sigmay)/(n*sigmaxs - sigmax**2)\n",
    "alpha = ymean - beta*xmean\n",
    "print('parameter b =', beta)\n",
    "print('parameter a =', alpha)"
   ]
  },
  {
   "cell_type": "code",
   "execution_count": 44,
   "id": "d76d1538",
   "metadata": {},
   "outputs": [
    {
     "data": {
      "text/plain": [
       "<matplotlib.legend.Legend at 0x19104339460>"
      ]
     },
     "execution_count": 44,
     "metadata": {},
     "output_type": "execute_result"
    },
    {
     "data": {
      "image/png": "[encoded data removed]",
      "text/plain": [
       "<Figure size 432x288 with 1 Axes>"
      ]
     },
     "metadata": {
      "needs_background": "light"
     },
     "output_type": "display_data"
    }
   ],
   "source": [
    "xreg = list(range(0, len(x)))\n",
    "yreg = []\n",
    "for num in range(0, n):\n",
    "    reg = beta*xreg[num] + alpha\n",
    "    yreg.append(reg)\n",
    "plt.plot(xreg, yreg, 'b', label='regresi')\n",
    "plt.plot(x, prices, 'ro', label='data')\n",
    "plt.xlabel('bulan')\n",
    "plt.ylabel('harga (USD)')\n",
    "plt.title('Hasil Regresi')\n",
    "plt.legend()"
   ]
  },
  {
   "cell_type": "markdown",
   "id": "5c46af3d",
   "metadata": {},
   "source": [
    "## Error"
   ]
  },
  {
   "cell_type": "markdown",
   "id": "7ba769d9",
   "metadata": {},
   "source": [
    "Perhitungan nilai Error untuk menggambarkan seberapa fit garis regresi dengan data."
   ]
  },
  {
   "cell_type": "code",
   "execution_count": 45,
   "id": "d2649e39",
   "metadata": {},
   "outputs": [
    {
     "name": "stdout",
     "output_type": "stream",
     "text": [
      "Least Squares Error = 200887.77213715087\n"
     ]
    }
   ],
   "source": [
    "err = []\n",
    "absErr = 0\n",
    "for i in range(0, n):\n",
    "    error = prices[i] - yreg[i]\n",
    "    err.append(abs(error))\n",
    "    absErr = absErr + abs(error)**2\n",
    "print('Least Squares Error =', absErr)"
   ]
  },
  {
   "cell_type": "markdown",
   "id": "7c80c2e6",
   "metadata": {},
   "source": [
    "Didapatkan nilai error yang cukup tinggi."
   ]
  },
  {
   "cell_type": "markdown",
   "id": "c0b11456",
   "metadata": {},
   "source": [
    "## Hasil Prediksi"
   ]
  },
  {
   "cell_type": "code",
   "execution_count": 46,
   "id": "f1f20310",
   "metadata": {},
   "outputs": [
    {
     "name": "stdout",
     "output_type": "stream",
     "text": [
      "Prediksi harga emas bulan depan (Agustus 2020) =  1822.9596320949756 USD\n"
     ]
    }
   ],
   "source": [
    "predPrice = beta*n + alpha\n",
    "print('Prediksi harga emas bulan depan (Agustus 2020) = ', predPrice, 'USD')"
   ]
  },
  {
   "cell_type": "markdown",
   "id": "9cd20bad",
   "metadata": {},
   "source": [
    "Dengan fakta di atas maka saat ini (pura-puranya Juli 2020) layak untuk membeli emas karena nilainya akan naik."
   ]
  },
  {
   "cell_type": "code",
   "execution_count": 47,
   "id": "8be869dd",
   "metadata": {},
   "outputs": [
    {
     "data": {
      "text/plain": [
       "[1238.064,\n",
       " 1201.859,\n",
       " 1199.198,\n",
       " 1214.726,\n",
       " 1221.275,\n",
       " 1249.887,\n",
       " 1291.63,\n",
       " 1319.755,\n",
       " 1302.286,\n",
       " 1287.65,\n",
       " 1282.46,\n",
       " 1358.488,\n",
       " 1414.611,\n",
       " 1497.102,\n",
       " 1510.336,\n",
       " 1494.765,\n",
       " 1471.921,\n",
       " 1480.025,\n",
       " 1560.668,\n",
       " 1598.818,\n",
       " 1593.764,\n",
       " 1680.03,\n",
       " 1715.697,\n",
       " 1734.032,\n",
       " 1840.807]"
      ]
     },
     "execution_count": 47,
     "metadata": {},
     "output_type": "execute_result"
    }
   ],
   "source": [
    "prices"
   ]
  },
  {
   "cell_type": "code",
   "execution_count": 48,
   "id": "2fd65613",
   "metadata": {},
   "outputs": [
    {
     "data": {
      "text/plain": [
       "[988.0782708933717,\n",
       " 1021.4735253414359,\n",
       " 1054.8687797895,\n",
       " 1088.2640342375641,\n",
       " 1121.6592886856283,\n",
       " 1155.0545431336925,\n",
       " 1188.4497975817567,\n",
       " 1221.8450520298209,\n",
       " 1255.240306477885,\n",
       " 1288.6355609259492,\n",
       " 1322.0308153740134,\n",
       " 1355.4260698220774,\n",
       " 1388.8213242701418,\n",
       " 1422.2165787182057,\n",
       " 1455.61183316627,\n",
       " 1489.007087614334,\n",
       " 1522.4023420623982,\n",
       " 1555.7975965104624,\n",
       " 1589.1928509585266,\n",
       " 1622.5881054065908,\n",
       " 1655.9833598546547,\n",
       " 1689.3786143027191,\n",
       " 1722.773868750783,\n",
       " 1756.1691231988475,\n",
       " 1789.5643776469115]"
      ]
     },
     "execution_count": 48,
     "metadata": {},
     "output_type": "execute_result"
    }
   ],
   "source": [
    "yreg"
   ]
  },
  {
   "cell_type": "code",
   "execution_count": null,
   "id": "7c95ba5b",
   "metadata": {},
   "outputs": [],
   "source": []
  }
 ],
 "metadata": {
  "kernelspec": {
   "display_name": "Python 3",
   "language": "python",
   "name": "python3"
  },
  "language_info": {
   "codemirror_mode": {
    "name": "ipython",
    "version": 3
   },
   "file_extension": ".py",
   "mimetype": "text/x-python",
   "name": "python",
   "nbconvert_exporter": "python",
   "pygments_lexer": "ipython3",
   "version": "3.8.8"
  }
 },
 "nbformat": 4,
 "nbformat_minor": 5
}
